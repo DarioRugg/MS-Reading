{
 "cells": [
  {
   "cell_type": "code",
   "execution_count": 1,
   "metadata": {
    "collapsed": true
   },
   "outputs": [],
   "source": [
    "import os\n",
    "import pymzml\n",
    "import matplotlib.pyplot as plt\n",
    "import numpy as np\n",
    "\n",
    "mzml_file = 'data/TQ8_201023SJ01_0103.mzML'"
   ]
  },
  {
   "cell_type": "code",
   "execution_count": 2,
   "outputs": [],
   "source": [
    "import pymzml\n",
    "run = pymzml.run.Reader(\n",
    "    mzml_file\n",
    ")\n"
   ],
   "metadata": {
    "collapsed": false,
    "pycharm": {
     "name": "#%%\n"
    }
   }
  },
  {
   "cell_type": "code",
   "execution_count": 4,
   "outputs": [],
   "source": [
    "tot_int = []\n",
    "max_int = []\n",
    "for spec in run:\n",
    "    tot_int.append(sum(spec.i))\n",
    "    max_int.append(max(spec.i))"
   ],
   "metadata": {
    "collapsed": false,
    "pycharm": {
     "name": "#%%\n"
    }
   }
  },
  {
   "cell_type": "code",
   "execution_count": 13,
   "outputs": [],
   "source": [
    "max_int = np.array(max_int)\n",
    "tot_int = np.array(tot_int)"
   ],
   "metadata": {
    "collapsed": false,
    "pycharm": {
     "name": "#%%\n"
    }
   }
  },
  {
   "cell_type": "code",
   "execution_count": 34,
   "outputs": [
    {
     "name": "stdout",
     "output_type": "stream",
     "text": [
      "3137\n"
     ]
    }
   ],
   "source": [
    "print(sum(tot_int<=8000000))"
   ],
   "metadata": {
    "collapsed": false,
    "pycharm": {
     "name": "#%%\n"
    }
   }
  },
  {
   "cell_type": "code",
   "execution_count": 31,
   "outputs": [
    {
     "data": {
      "text/plain": "<Figure size 432x288 with 1 Axes>",
      "image/png": "[encoded data removed]"
     },
     "metadata": {
      "needs_background": "light"
     },
     "output_type": "display_data"
    }
   ],
   "source": [
    "plt.hist(tot_int[tot_int>=5000000], 60, alpha=0.5, label='tot')\n",
    "plt.hist(max_int[tot_int>=5000000], 10, alpha=0.5, label='max')\n",
    "plt.legend(loc='upper right')\n",
    "plt.show()"
   ],
   "metadata": {
    "collapsed": false,
    "pycharm": {
     "name": "#%%\n"
    }
   }
  },
  {
   "cell_type": "code",
   "execution_count": 3,
   "outputs": [],
   "source": [
    "spec1 = list(run)[0]\n",
    "spec2 = list(run)[1000]"
   ],
   "metadata": {
    "collapsed": false,
    "pycharm": {
     "name": "#%%\n"
    }
   }
  },
  {
   "cell_type": "code",
   "execution_count": 19,
   "outputs": [
    {
     "data": {
      "text/plain": "<__main__.Spectrum object with native ID 1 at 0x1da1566afd0>"
     },
     "execution_count": 19,
     "metadata": {},
     "output_type": "execute_result"
    }
   ],
   "source": [
    "spec1"
   ],
   "metadata": {
    "collapsed": false,
    "pycharm": {
     "name": "#%%\n"
    }
   }
  },
  {
   "cell_type": "code",
   "execution_count": 18,
   "outputs": [
    {
     "ename": "AttributeError",
     "evalue": "'NoneType' object has no attribute 'calling_instance'",
     "output_type": "error",
     "traceback": [
      "\u001B[1;31m---------------------------------------------------------------------------\u001B[0m",
      "\u001B[1;31mAttributeError\u001B[0m                            Traceback (most recent call last)",
      "Input \u001B[1;32mIn [18]\u001B[0m, in \u001B[0;36m<cell line: 1>\u001B[1;34m()\u001B[0m\n\u001B[1;32m----> 1\u001B[0m \u001B[43mrun\u001B[49m\u001B[43m[\u001B[49m\u001B[38;5;241;43m1\u001B[39;49m\u001B[43m]\u001B[49m\n",
      "File \u001B[1;32m~\\AppData\\Local\\Programs\\Python\\Python39\\lib\\site-packages\\pymzml\\run.py:199\u001B[0m, in \u001B[0;36mReader.__getitem__\u001B[1;34m(self, identifier)\u001B[0m\n\u001B[0;32m    197\u001B[0m     \u001B[38;5;28;01mpass\u001B[39;00m\n\u001B[0;32m    198\u001B[0m spectrum \u001B[38;5;241m=\u001B[39m \u001B[38;5;28mself\u001B[39m\u001B[38;5;241m.\u001B[39minfo[\u001B[38;5;124m\"\u001B[39m\u001B[38;5;124mfile_object\u001B[39m\u001B[38;5;124m\"\u001B[39m][identifier]\n\u001B[1;32m--> 199\u001B[0m spectrum\u001B[38;5;241m.\u001B[39mcalling_instance \u001B[38;5;241m=\u001B[39m \u001B[38;5;28mself\u001B[39m\n\u001B[0;32m    200\u001B[0m \u001B[38;5;28;01mif\u001B[39;00m \u001B[38;5;28misinstance\u001B[39m(spectrum, spec\u001B[38;5;241m.\u001B[39mSpectrum):\n\u001B[0;32m    201\u001B[0m     spectrum\u001B[38;5;241m.\u001B[39mmeasured_precision \u001B[38;5;241m=\u001B[39m \u001B[38;5;28mself\u001B[39m\u001B[38;5;241m.\u001B[39mms_precisions[spectrum\u001B[38;5;241m.\u001B[39mms_level]\n",
      "\u001B[1;31mAttributeError\u001B[0m: 'NoneType' object has no attribute 'calling_instance'"
     ]
    }
   ],
   "source": [
    "run[1]"
   ],
   "metadata": {
    "collapsed": false,
    "pycharm": {
     "name": "#%%\n"
    }
   }
  },
  {
   "cell_type": "code",
   "execution_count": 8,
   "outputs": [],
   "source": [
    "spec = spec1 + spec2"
   ],
   "metadata": {
    "collapsed": false,
    "pycharm": {
     "name": "#%%\n"
    }
   }
  },
  {
   "cell_type": "code",
   "execution_count": null,
   "outputs": [],
   "source": [
    "spec._i"
   ],
   "metadata": {
    "collapsed": false,
    "pycharm": {
     "name": "#%%\n",
     "is_executing": true
    }
   }
  },
  {
   "cell_type": "code",
   "execution_count": 15,
   "outputs": [
    {
     "data": {
      "text/plain": "0.0"
     },
     "execution_count": 15,
     "metadata": {},
     "output_type": "execute_result"
    }
   ],
   "source": [
    "(spec._i - spec1._i).sum()"
   ],
   "metadata": {
    "collapsed": false,
    "pycharm": {
     "name": "#%%\n"
    }
   }
  },
  {
   "cell_type": "code",
   "execution_count": 3,
   "outputs": [
    {
     "name": "stdout",
     "output_type": "stream",
     "text": [
      "[]\n",
      "[ 35.95897293  37.09222794  38.16328049  39.05881882  40.02801895\n",
      "  41.10074234  42.12324905  43.13564301  44.05424118  45.0737648\n",
      "  46.01107407  47.0223732   48.03359985  49.17651749  50.06753159\n",
      "  51.04703522  52.10795593  53.10347366  54.07386398  55.0929718\n",
      "  56.09614182  57.12398148  57.85616302  58.77377319  59.59680176\n",
      "  60.1109314   61.05810547  62.0464859   63.15043259  64.03349304\n",
      "  65.16548157  66.11042023  67.06124878  67.98405457  69.14320374\n",
      "  70.14834595  71.12682343  71.97811127  73.01160431  74.15724182\n",
      "  75.01638794  76.13127899  77.06726837  78.0157547   79.16459656\n",
      "  80.1437149   81.07824707  82.03173065  83.0510025   83.86672974\n",
      "  84.43501282  85.1771698   85.9169693   86.87984467  88.19624329\n",
      "  89.02085114  90.19934082  91.02121735  92.1581192   92.99466705\n",
      "  94.17640686  95.14533234  96.06445312  96.9006424   98.07428741\n",
      "  99.90157318 100.7410202  101.93578339 103.02366638 104.10804749\n",
      " 105.12631226 106.12712097 107.12879944 107.65298462 108.95670319\n",
      " 110.20329285 111.04998016 115.10958099 115.99097443 117.0482254\n",
      " 118.05093384 119.02471924 120.08836365 121.18054199 122.08407593\n",
      " 125.84473419 127.17475128 128.17077637 129.16853333 130.0189209\n",
      " 130.93855286 132.23429871 133.068573   134.02737427 134.77487183\n",
      " 137.00259399 138.88973999 139.58143616 140.58776855 141.12496948\n",
      " 142.07989502 143.12937927 144.13825989 145.02281189 146.23774719\n",
      " 147.01663208 148.10096741 149.17996216 151.43609619 152.03445435\n",
      " 153.90202332 154.92825317 156.67420959 157.41435242 158.88551331\n",
      " 159.42948914 161.46162415 162.12413025 162.87556458 163.98716736\n",
      " 165.01397705 168.16825867 169.0712738  171.17669678 172.89707947\n",
      " 175.95321655 177.08340454 177.96353149 180.3807373  180.99656677\n",
      " 182.05503845 183.05693054 184.79344177 187.37960815 189.13525391\n",
      " 189.85020447 191.00056458 191.94099426 193.02629089 193.74809265\n",
      " 194.83644104 195.55142212 199.97787476 203.02992249 206.55900574\n",
      " 207.15896606 208.17857361 208.71464539 210.04013062 213.17494202\n",
      " 218.29748535 221.28898621 222.96290588 225.3493042  232.89250183\n",
      " 234.3704071  235.96031189 239.54884338 240.89253235 247.17533875\n",
      " 249.23062134]\n"
     ]
    }
   ],
   "source": [
    "i=0\n",
    "for spec in run:\n",
    "    s += spec\n",
    "    if i > 5: break\n",
    "    i += 1\n",
    "\n",
    "print(s.mz)\n",
    "print(spec.mz)"
   ],
   "metadata": {
    "collapsed": false,
    "pycharm": {
     "name": "#%%\n"
    }
   }
  },
  {
   "cell_type": "code",
   "execution_count": 41,
   "outputs": [
    {
     "data": {
      "text/plain": "6111"
     },
     "execution_count": 41,
     "metadata": {},
     "output_type": "execute_result"
    }
   ],
   "source": [
    "msrun = pymzml.run.Reader(mzml_file,\n",
    "    MS1_Precision = 5e-6 ,\n",
    "    MSn_Precision = 20e-6)\n",
    "msrun.get_spectrum_count()"
   ],
   "metadata": {
    "collapsed": false,
    "pycharm": {
     "name": "#%%\n"
    }
   }
  },
  {
   "cell_type": "code",
   "execution_count": 42,
   "outputs": [
    {
     "ename": "TypeError",
     "evalue": "'NoneType' object is not subscriptable",
     "output_type": "error",
     "traceback": [
      "\u001B[1;31m---------------------------------------------------------------------------\u001B[0m",
      "\u001B[1;31mFileNotFoundError\u001B[0m                         Traceback (most recent call last)",
      "File \u001B[1;32mC:\\ProgramData\\Anaconda3\\envs\\ms-reading\\lib\\site-packages\\pymzml\\spec.py:201\u001B[0m, in \u001B[0;36m_get_encoding_parameters\u001B[1;34m(self, array_type)\u001B[0m\n",
      "File \u001B[1;32mC:\\ProgramData\\Anaconda3\\envs\\ms-reading\\lib\\site-packages\\pymzml\\obo.py:116\u001B[0m, in \u001B[0;36m__getitem__\u001B[1;34m(self, key)\u001B[0m\n",
      "File \u001B[1;32mC:\\ProgramData\\Anaconda3\\envs\\ms-reading\\lib\\site-packages\\pymzml\\obo.py:190\u001B[0m, in \u001B[0;36mparseOBO\u001B[1;34m(self)\u001B[0m\n",
      "File \u001B[1;32mC:\\ProgramData\\Anaconda3\\envs\\ms-reading\\lib\\site-packages\\pymzml\\obo.py:152\u001B[0m, in \u001B[0;36mdownload_obo\u001B[1;34m(self, version, obo_file)\u001B[0m\n",
      "File \u001B[1;32mC:\\ProgramData\\Anaconda3\\envs\\ms-reading\\lib\\urllib\\request.py:251\u001B[0m, in \u001B[0;36murlretrieve\u001B[1;34m(url, filename, reporthook, data)\u001B[0m\n",
      "\u001B[1;31mFileNotFoundError\u001B[0m: [Errno 2] No such file or directory: 'C:\\\\ProgramData\\\\Anaconda3\\\\envs\\\\ms-reading\\\\lib\\\\site-packages\\\\pymzml\\\\obo\\\\psi-ms-1.1.0.obo'",
      "\nDuring handling of the above exception, another exception occurred:\n",
      "\u001B[1;31mTypeError\u001B[0m                                 Traceback (most recent call last)",
      "Input \u001B[1;32mIn [42]\u001B[0m, in \u001B[0;36m<cell line: 2>\u001B[1;34m()\u001B[0m\n\u001B[0;32m      1\u001B[0m spec_tot \u001B[38;5;241m=\u001B[39m \u001B[38;5;28mlist\u001B[39m(msrun)[\u001B[38;5;241m0\u001B[39m]\n\u001B[0;32m      2\u001B[0m \u001B[38;5;28;01mfor\u001B[39;00m spec \u001B[38;5;129;01min\u001B[39;00m \u001B[38;5;28mlist\u001B[39m(msrun)[\u001B[38;5;241m1\u001B[39m:]:\n\u001B[1;32m----> 3\u001B[0m     spec_tot \u001B[38;5;241m+\u001B[39m\u001B[38;5;241m=\u001B[39m spec\n",
      "File \u001B[1;32mC:\\ProgramData\\Anaconda3\\envs\\ms-reading\\lib\\site-packages\\pymzml\\spec.py:483\u001B[0m, in \u001B[0;36m__add__\u001B[1;34m(self, other_spec)\u001B[0m\n",
      "File \u001B[1;32mC:\\ProgramData\\Anaconda3\\envs\\ms-reading\\lib\\site-packages\\pymzml\\spec.py:1255\u001B[0m, in \u001B[0;36m_reprofile_Peaks\u001B[1;34m(self)\u001B[0m\n",
      "File \u001B[1;32mC:\\ProgramData\\Anaconda3\\envs\\ms-reading\\lib\\site-packages\\pymzml\\spec.py:1048\u001B[0m, in \u001B[0;36mpeaks\u001B[1;34m(self, peak_type)\u001B[0m\n",
      "File \u001B[1;32mC:\\ProgramData\\Anaconda3\\envs\\ms-reading\\lib\\site-packages\\pymzml\\spec.py:209\u001B[0m, in \u001B[0;36m_get_encoding_parameters\u001B[1;34m(self, array_type)\u001B[0m\n",
      "\u001B[1;31mTypeError\u001B[0m: 'NoneType' object is not subscriptable"
     ]
    }
   ],
   "source": [
    "spec_tot = list(msrun)[0]\n",
    "for spec in list(msrun)[1:]:\n",
    "    spec_tot += spec"
   ],
   "metadata": {
    "collapsed": false,
    "pycharm": {
     "name": "#%%\n"
    }
   }
  },
  {
   "cell_type": "code",
   "execution_count": 30,
   "outputs": [
    {
     "data": {
      "text/plain": "array([2.61074615e+02, 4.78831641e+04, 3.42015742e+04, 5.17208008e+04,\n       2.49996016e+05, 1.29026170e+07, 3.95087562e+05, 2.40946766e+05,\n       4.63567594e+05, 5.92751100e+06, 1.01641039e+05, 2.83407422e+04,\n       2.34662832e+04, 2.62097012e+04, 1.48406768e+04, 3.71214453e+04,\n       3.75498945e+04, 1.65229785e+04, 6.08939180e+04, 2.85129238e+04,\n       1.01319906e+05, 1.47600047e+05, 1.48209219e+04, 2.10981914e+04,\n       1.27995967e+04, 1.49124854e+04, 4.06480884e+03, 5.85682715e+03,\n       2.09588457e+04, 1.18054844e+04, 2.32004023e+04, 1.01055625e+04,\n       3.58019258e+04, 1.65534121e+04, 2.42273496e+04, 1.75603379e+04,\n       4.46603088e+02, 6.72680859e+03, 7.01057373e+03, 3.30200664e+04,\n       5.81064502e+03, 1.48593623e+04, 1.12747920e+04, 4.87333906e+04,\n       1.82842988e+04, 3.49215312e+04, 8.78951172e+03, 2.81640234e+04,\n       2.06088770e+04, 1.30136885e+04, 7.16700488e+03, 3.22125488e+03,\n       2.80294824e+03, 4.64862305e+03, 9.44860449e+03, 1.39178389e+04,\n       3.73993384e+03, 6.17577578e+04, 3.12008179e+03, 1.49869639e+04,\n       5.29677148e+03, 1.58014199e+04, 2.06611992e+04, 1.23260312e+04,\n       2.36568823e+03, 7.91232239e+02, 2.88463403e+03, 1.00051904e+03,\n       7.43421973e+03, 2.07815918e+04, 6.37550586e+03, 6.74335938e+03,\n       8.47291211e+03, 6.61148730e+03, 3.39770703e+03, 2.00557617e+03,\n       4.16010889e+03, 2.45057755e+02, 8.25935425e+02, 4.16704956e+02,\n       1.10300020e+04, 1.06965845e+03, 8.09891846e+03, 2.30909546e+02,\n       1.15051680e+04, 5.68571387e+03, 2.86995190e+03, 3.61927344e+03,\n       5.40515186e+03, 1.81711133e+03, 5.73937012e+03, 6.11229590e+03,\n       4.26635400e+03, 1.59367627e+03, 8.83062134e+02, 1.83206030e+03,\n       5.52581201e+03, 2.84832916e+02, 7.40992725e+03, 6.76364746e+03,\n       2.25036697e+02, 2.88837128e+02, 3.62808276e+03, 3.18788647e+03,\n       6.36936584e+02, 4.88220166e+03, 8.24867615e+02, 1.22395410e+03,\n       4.42064972e+02, 2.50717041e+03, 2.30001929e+03, 7.40512207e+02,\n       3.05494653e+03, 1.20873804e+03, 1.82805615e+03, 1.54429102e+03,\n       1.54829517e+03, 1.89132263e+03, 3.13396301e+02, 2.33605713e+03,\n       7.28499573e+02, 9.82366638e+02, 1.60915918e+03, 3.87821265e+03,\n       1.26506396e+03, 4.43399719e+02, 6.65500000e+03, 5.29890686e+02,\n       2.53439917e+03, 1.28108081e+03, 2.43723022e+02, 1.07926855e+03,\n       2.08485962e+02, 2.49168750e+03, 2.67347876e+03, 5.65661621e+02,\n       2.24235855e+02, 6.46546692e+02, 1.39469365e+04, 3.08084058e+03,\n       1.07491729e+04, 1.54802820e+03, 2.06243604e+03, 2.24022290e+03,\n       6.31597656e+02, 3.77997589e+02, 9.36985535e+02, 9.27642395e+02,\n       4.24078047e+04, 2.50983984e+03, 1.54001978e+03, 4.83788867e+03,\n       6.48415344e+02, 4.99725616e+02, 9.36985550e+01, 1.59100677e+02,\n       3.17961108e+03, 8.00575378e+02, 1.24157263e+03, 5.41102478e+02,\n       1.12758606e+03, 2.97913361e+02, 4.01222015e+02, 6.61228821e+02,\n       6.08373230e+02, 1.79388687e+02, 1.32245764e+03, 4.21830371e+03,\n       9.88239441e+02])"
     },
     "execution_count": 30,
     "metadata": {},
     "output_type": "execute_result"
    }
   ],
   "source": [
    "spec_tot.i+spec1.i"
   ],
   "metadata": {
    "collapsed": false,
    "pycharm": {
     "name": "#%%\n"
    }
   }
  },
  {
   "cell_type": "code",
   "execution_count": 16,
   "outputs": [
    {
     "name": "stdout",
     "output_type": "stream",
     "text": [
      "1 1\n",
      "Plotted file: ./img/example_plot_TQ8_201023SJ01_0103.mzML_total.html\n"
     ]
    }
   ],
   "source": [
    "\n",
    "p = pymzml.plot.Factory()\n",
    "p.new_plot()\n",
    "p.add(list(zip(spec_tot.mz, spec_tot.i)), color=(0, 0, 0), style=\"sticks\", name=\"peaks\")\n",
    "filename = \"./img/example_plot_{0}_{1}.html\".format(\n",
    "    os.path.basename(mzml_file), \"total\"\n",
    ")\n",
    "p.save(filename=filename)\n",
    "print(\"Plotted file: {0}\".format(filename))"
   ],
   "metadata": {
    "collapsed": false,
    "pycharm": {
     "name": "#%%\n"
    }
   }
  },
  {
   "cell_type": "code",
   "execution_count": 5,
   "outputs": [
    {
     "name": "stdout",
     "output_type": "stream",
     "text": [
      "1 1\n",
      "Plotted file: ./img/example_plot_TQ8_201023SJ01_0103.mzML_1and2001.html\n"
     ]
    }
   ],
   "source": [
    "spec1 = list(msrun)[0]\n",
    "spec2 = list(msrun)[2000]\n",
    "p = pymzml.plot.Factory()\n",
    "p.new_plot()\n",
    "# p.add(spec.peaks(\"raw\"), color=(0, 0, 0), style=\"sticks\", name=\"peaks\")\n",
    "p.add(list(zip(spec1.mz, spec1.i)), color=(0, 0, 0), style=\"sticks\", name=\"peaks\")\n",
    "p.add(list(zip(spec2.mz, spec2.i)), color=(0, 0, 0), style=\"sticks\", name=\"peaks\")\n",
    "filename = \"./img/example_plot_{0}_{1}and{2}.html\".format(\n",
    "    os.path.basename(mzml_file), spec1.ID, spec2.ID\n",
    ")\n",
    "p.save(filename=filename)\n",
    "print(\"Plotted file: {0}\".format(filename))"
   ],
   "metadata": {
    "collapsed": false,
    "pycharm": {
     "name": "#%%\n"
    }
   }
  }
 ],
 "metadata": {
  "kernelspec": {
   "display_name": "Python 3",
   "language": "python",
   "name": "python3"
  },
  "language_info": {
   "codemirror_mode": {
    "name": "ipython",
    "version": 2
   },
   "file_extension": ".py",
   "mimetype": "text/x-python",
   "name": "python",
   "nbconvert_exporter": "python",
   "pygments_lexer": "ipython2",
   "version": "2.7.6"
  }
 },
 "nbformat": 4,
 "nbformat_minor": 0
}