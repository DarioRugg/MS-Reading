{
 "cells": [
  {
   "cell_type": "code",
   "execution_count": 3,
   "metadata": {
    "collapsed": true
   },
   "outputs": [],
   "source": [
    "import os\n",
    "import pymzml\n",
    "import matplotlib.pyplot as plt\n",
    "import numpy as np\n",
    "\n",
    "mzml_file = 'data/TQ8_201023SJ01_0103.mzML'"
   ]
  },
  {
   "cell_type": "code",
   "execution_count": 4,
   "outputs": [
    {
     "data": {
      "text/plain": "6111"
     },
     "execution_count": 4,
     "metadata": {},
     "output_type": "execute_result"
    }
   ],
   "source": [
    "msrun = pymzml.run.Reader(mzml_file)\n",
    "msrun.get_spectrum_count()"
   ],
   "metadata": {
    "collapsed": false,
    "pycharm": {
     "name": "#%%\n"
    }
   }
  },
  {
   "cell_type": "code",
   "execution_count": 6,
   "outputs": [],
   "source": [
    "spectrum = msrun.next()"
   ],
   "metadata": {
    "collapsed": false,
    "pycharm": {
     "name": "#%%\n"
    }
   }
  },
  {
   "cell_type": "code",
   "execution_count": null,
   "outputs": [],
   "source": [
    "spectrum.peaks(\"raw\")"
   ],
   "metadata": {
    "collapsed": false,
    "pycharm": {
     "name": "#%%\n",
     "is_executing": true
    }
   }
  },
  {
   "cell_type": "code",
   "execution_count": 6,
   "outputs": [
    {
     "ename": "ParseError",
     "evalue": "not well-formed (invalid token): line 150, column 8 (<string>)",
     "output_type": "error",
     "traceback": [
      "Traceback \u001B[1;36m(most recent call last)\u001B[0m:\n",
      "  File \u001B[0;32m~\\AppData\\Local\\Programs\\Python\\Python39\\lib\\site-packages\\IPython\\core\\interactiveshell.py:3397\u001B[0m in \u001B[0;35mrun_code\u001B[0m\n    exec(code_obj, self.user_global_ns, self.user_ns)\n",
      "  Input \u001B[0;32mIn [6]\u001B[0m in \u001B[0;35m<cell line: 1>\u001B[0m\n    spec1 = list(msrun)[1]\n",
      "  File \u001B[0;32m~\\AppData\\Local\\Programs\\Python\\Python39\\lib\\site-packages\\pymzml\\run.py:153\u001B[0m in \u001B[0;35m__next__\u001B[0m\n    event, element = next(self.iter, (\"END\", \"END\"))\n",
      "  File \u001B[0;32m~\\AppData\\Local\\Programs\\Python\\Python39\\lib\\xml\\etree\\ElementTree.py:1254\u001B[0m in \u001B[0;35miterator\u001B[0m\n    yield from pullparser.read_events()\n",
      "  File \u001B[0;32m~\\AppData\\Local\\Programs\\Python\\Python39\\lib\\xml\\etree\\ElementTree.py:1329\u001B[0m in \u001B[0;35mread_events\u001B[0m\n    raise event\n",
      "\u001B[1;36m  File \u001B[1;32m~\\AppData\\Local\\Programs\\Python\\Python39\\lib\\xml\\etree\\ElementTree.py:1301\u001B[1;36m in \u001B[1;35mfeed\u001B[1;36m\u001B[0m\n\u001B[1;33m    self._parser.feed(data)\u001B[0m\n",
      "\u001B[1;36m  File \u001B[1;32m<string>\u001B[1;36m\u001B[0m\n\u001B[1;31mParseError\u001B[0m\u001B[1;31m:\u001B[0m not well-formed (invalid token): line 150, column 8\n"
     ]
    }
   ],
   "source": [
    "spec1 = list(msrun)[1]\n",
    "spec2 = msrun[2000]\n",
    "p = pymzml.plot.Factory()\n",
    "p.new_plot()\n",
    "# p.add(spec.peaks(\"raw\"), color=(0, 0, 0), style=\"sticks\", name=\"peaks\")\n",
    "p.add(list(zip(spec1.mz, spec1.i)), color=(0, 0, 0), style=\"sticks\", name=\"peaks\")\n",
    "p.add(list(zip(spec2.mz, spec2.i)), color=(0, 0, 0), style=\"sticks\", name=\"peaks\")\n",
    "filename = \"./img/example_plot_{0}_{1}and{2}.html\".format(\n",
    "    os.path.basename(mzml_file), spec1.ID, spec2.ID\n",
    ")\n",
    "p.save(filename=filename)\n",
    "print(\"Plotted file: {0}\".format(filename))"
   ],
   "metadata": {
    "collapsed": false,
    "pycharm": {
     "name": "#%%\n"
    }
   }
  }
 ],
 "metadata": {
  "kernelspec": {
   "display_name": "Python 3",
   "language": "python",
   "name": "python3"
  },
  "language_info": {
   "codemirror_mode": {
    "name": "ipython",
    "version": 2
   },
   "file_extension": ".py",
   "mimetype": "text/x-python",
   "name": "python",
   "nbconvert_exporter": "python",
   "pygments_lexer": "ipython2",
   "version": "2.7.6"
  }
 },
 "nbformat": 4,
 "nbformat_minor": 0
}